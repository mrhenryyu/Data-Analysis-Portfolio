{
 "cells": [
  {
   "cell_type": "code",
   "execution_count": 1,
   "metadata": {
    "collapsed": true
   },
   "outputs": [],
   "source": [
    "# Using information from Kaggle kernels, lets investigate some things "
   ]
  },
  {
   "cell_type": "code",
   "execution_count": 2,
   "metadata": {
    "collapsed": true
   },
   "outputs": [],
   "source": [
    "import pandas as pd \n",
    "import numpy as np \n",
    "\n",
    "import seaborn as sns \n",
    "\n",
    "import matplotlib.pyplot as plt\n",
    "%matplotlib inline"
   ]
  },
  {
   "cell_type": "code",
   "execution_count": 64,
   "metadata": {
    "collapsed": true
   },
   "outputs": [],
   "source": [
    "sns.set_style(\"white\")"
   ]
  },
  {
   "cell_type": "code",
   "execution_count": 3,
   "metadata": {
    "collapsed": true
   },
   "outputs": [],
   "source": [
    "train = pd.read_json('train.json')\n",
    "test = pd.read_json('test.json')"
   ]
  },
  {
   "cell_type": "code",
   "execution_count": 4,
   "metadata": {
    "collapsed": false
   },
   "outputs": [
    {
     "data": {
      "text/html": [
       "<div>\n",
       "<table border=\"1\" class=\"dataframe\">\n",
       "  <thead>\n",
       "    <tr style=\"text-align: right;\">\n",
       "      <th></th>\n",
       "      <th>bathrooms</th>\n",
       "      <th>bedrooms</th>\n",
       "      <th>building_id</th>\n",
       "      <th>created</th>\n",
       "      <th>description</th>\n",
       "      <th>display_address</th>\n",
       "      <th>features</th>\n",
       "      <th>interest_level</th>\n",
       "      <th>latitude</th>\n",
       "      <th>listing_id</th>\n",
       "      <th>longitude</th>\n",
       "      <th>manager_id</th>\n",
       "      <th>photos</th>\n",
       "      <th>price</th>\n",
       "      <th>street_address</th>\n",
       "    </tr>\n",
       "  </thead>\n",
       "  <tbody>\n",
       "    <tr>\n",
       "      <th>10</th>\n",
       "      <td>1.5</td>\n",
       "      <td>3</td>\n",
       "      <td>53a5b119ba8f7b61d4e010512e0dfc85</td>\n",
       "      <td>2016-06-24 07:54:24</td>\n",
       "      <td>A Brand New 3 Bedroom 1.5 bath ApartmentEnjoy ...</td>\n",
       "      <td>Metropolitan Avenue</td>\n",
       "      <td>[]</td>\n",
       "      <td>medium</td>\n",
       "      <td>40.7145</td>\n",
       "      <td>7211212</td>\n",
       "      <td>-73.9425</td>\n",
       "      <td>5ba989232d0489da1b5f2c45f6688adc</td>\n",
       "      <td>[https://photos.renthop.com/2/7211212_1ed4542e...</td>\n",
       "      <td>3000</td>\n",
       "      <td>792 Metropolitan Avenue</td>\n",
       "    </tr>\n",
       "    <tr>\n",
       "      <th>10000</th>\n",
       "      <td>1.0</td>\n",
       "      <td>2</td>\n",
       "      <td>c5c8a357cba207596b04d1afd1e4f130</td>\n",
       "      <td>2016-06-12 12:19:27</td>\n",
       "      <td></td>\n",
       "      <td>Columbus Avenue</td>\n",
       "      <td>[Doorman, Elevator, Fitness Center, Cats Allow...</td>\n",
       "      <td>low</td>\n",
       "      <td>40.7947</td>\n",
       "      <td>7150865</td>\n",
       "      <td>-73.9667</td>\n",
       "      <td>7533621a882f71e25173b27e3139d83d</td>\n",
       "      <td>[https://photos.renthop.com/2/7150865_be3306c5...</td>\n",
       "      <td>5465</td>\n",
       "      <td>808 Columbus Avenue</td>\n",
       "    </tr>\n",
       "    <tr>\n",
       "      <th>100004</th>\n",
       "      <td>1.0</td>\n",
       "      <td>1</td>\n",
       "      <td>c3ba40552e2120b0acfc3cb5730bb2aa</td>\n",
       "      <td>2016-04-17 03:26:41</td>\n",
       "      <td>Top Top West Village location, beautiful Pre-w...</td>\n",
       "      <td>W 13 Street</td>\n",
       "      <td>[Laundry In Building, Dishwasher, Hardwood Flo...</td>\n",
       "      <td>high</td>\n",
       "      <td>40.7388</td>\n",
       "      <td>6887163</td>\n",
       "      <td>-74.0018</td>\n",
       "      <td>d9039c43983f6e564b1482b273bd7b01</td>\n",
       "      <td>[https://photos.renthop.com/2/6887163_de85c427...</td>\n",
       "      <td>2850</td>\n",
       "      <td>241 W 13 Street</td>\n",
       "    </tr>\n",
       "    <tr>\n",
       "      <th>100007</th>\n",
       "      <td>1.0</td>\n",
       "      <td>1</td>\n",
       "      <td>28d9ad350afeaab8027513a3e52ac8d5</td>\n",
       "      <td>2016-04-18 02:22:02</td>\n",
       "      <td>Building Amenities - Garage - Garden - fitness...</td>\n",
       "      <td>East 49th Street</td>\n",
       "      <td>[Hardwood Floors, No Fee]</td>\n",
       "      <td>low</td>\n",
       "      <td>40.7539</td>\n",
       "      <td>6888711</td>\n",
       "      <td>-73.9677</td>\n",
       "      <td>1067e078446a7897d2da493d2f741316</td>\n",
       "      <td>[https://photos.renthop.com/2/6888711_6e660cee...</td>\n",
       "      <td>3275</td>\n",
       "      <td>333 East 49th Street</td>\n",
       "    </tr>\n",
       "  </tbody>\n",
       "</table>\n",
       "</div>"
      ],
      "text/plain": [
       "        bathrooms  bedrooms                       building_id  \\\n",
       "10            1.5         3  53a5b119ba8f7b61d4e010512e0dfc85   \n",
       "10000         1.0         2  c5c8a357cba207596b04d1afd1e4f130   \n",
       "100004        1.0         1  c3ba40552e2120b0acfc3cb5730bb2aa   \n",
       "100007        1.0         1  28d9ad350afeaab8027513a3e52ac8d5   \n",
       "\n",
       "                    created  \\\n",
       "10      2016-06-24 07:54:24   \n",
       "10000   2016-06-12 12:19:27   \n",
       "100004  2016-04-17 03:26:41   \n",
       "100007  2016-04-18 02:22:02   \n",
       "\n",
       "                                              description  \\\n",
       "10      A Brand New 3 Bedroom 1.5 bath ApartmentEnjoy ...   \n",
       "10000                                                       \n",
       "100004  Top Top West Village location, beautiful Pre-w...   \n",
       "100007  Building Amenities - Garage - Garden - fitness...   \n",
       "\n",
       "            display_address  \\\n",
       "10      Metropolitan Avenue   \n",
       "10000       Columbus Avenue   \n",
       "100004          W 13 Street   \n",
       "100007     East 49th Street   \n",
       "\n",
       "                                                 features interest_level  \\\n",
       "10                                                     []         medium   \n",
       "10000   [Doorman, Elevator, Fitness Center, Cats Allow...            low   \n",
       "100004  [Laundry In Building, Dishwasher, Hardwood Flo...           high   \n",
       "100007                          [Hardwood Floors, No Fee]            low   \n",
       "\n",
       "        latitude  listing_id  longitude                        manager_id  \\\n",
       "10       40.7145     7211212   -73.9425  5ba989232d0489da1b5f2c45f6688adc   \n",
       "10000    40.7947     7150865   -73.9667  7533621a882f71e25173b27e3139d83d   \n",
       "100004   40.7388     6887163   -74.0018  d9039c43983f6e564b1482b273bd7b01   \n",
       "100007   40.7539     6888711   -73.9677  1067e078446a7897d2da493d2f741316   \n",
       "\n",
       "                                                   photos  price  \\\n",
       "10      [https://photos.renthop.com/2/7211212_1ed4542e...   3000   \n",
       "10000   [https://photos.renthop.com/2/7150865_be3306c5...   5465   \n",
       "100004  [https://photos.renthop.com/2/6887163_de85c427...   2850   \n",
       "100007  [https://photos.renthop.com/2/6888711_6e660cee...   3275   \n",
       "\n",
       "                 street_address  \n",
       "10      792 Metropolitan Avenue  \n",
       "10000       808 Columbus Avenue  \n",
       "100004          241 W 13 Street  \n",
       "100007     333 East 49th Street  "
      ]
     },
     "execution_count": 4,
     "metadata": {},
     "output_type": "execute_result"
    }
   ],
   "source": [
    "train.head(4)"
   ]
  },
  {
   "cell_type": "code",
   "execution_count": 5,
   "metadata": {
    "collapsed": true
   },
   "outputs": [],
   "source": [
    "# we are focusin specifically on the building ID and the managers ID "
   ]
  },
  {
   "cell_type": "code",
   "execution_count": 6,
   "metadata": {
    "collapsed": true
   },
   "outputs": [],
   "source": [
    "# what are some useful information we can use for our models? "
   ]
  },
  {
   "cell_type": "code",
   "execution_count": 34,
   "metadata": {
    "collapsed": false
   },
   "outputs": [
    {
     "name": "stdout",
     "output_type": "stream",
     "text": [
      "3481\n",
      "49352\n",
      "the average number of listings per manager is 14.178\n"
     ]
    }
   ],
   "source": [
    "print len(train['manager_id'].unique())\n",
    "#3481 unique managers, how many listings in total? \n",
    "\n",
    "print train.shape[0]\n",
    "\n",
    "# there are 3481 for almost 50,000 listings\n",
    "\n",
    "# average listing per manager \n",
    "man_avg = train.shape[0] / float(len(train['manager_id'].unique()))\n",
    "\n",
    "print (\"the average number of listings per manager is {:.3f}\".format(man_avg))"
   ]
  },
  {
   "cell_type": "code",
   "execution_count": 39,
   "metadata": {
    "collapsed": false
   },
   "outputs": [
    {
     "name": "stdout",
     "output_type": "stream",
     "text": [
      "Train :3481\n",
      "Test  :3851\n"
     ]
    }
   ],
   "source": [
    "# see how many managers we have in each dataset \n",
    "man_train_list = train['manager_id'].unique()\n",
    "man_test_list = test['manager_id'].unique()\n",
    "\n",
    "print 'Train :{}'.format(len(man_train_list))\n",
    "print 'Test  :{}'.format(len(man_test_list))"
   ]
  },
  {
   "cell_type": "code",
   "execution_count": 40,
   "metadata": {
    "collapsed": true
   },
   "outputs": [],
   "source": [
    "# find how many entries each manager is responsible for "
   ]
  },
  {
   "cell_type": "code",
   "execution_count": 53,
   "metadata": {
    "collapsed": false
   },
   "outputs": [],
   "source": [
    "temp1 = train.groupby('manager_id').count().iloc[:,-1]\n",
    "temp2 = test.groupby('manager_id').count().iloc[:,-1]\n",
    "\n",
    "managers = pd.concat([temp1, temp2], join = 'outer', axis = 1)\n",
    "managers.columns = ['train_count','test_count']"
   ]
  },
  {
   "cell_type": "code",
   "execution_count": 58,
   "metadata": {
    "collapsed": false
   },
   "outputs": [
    {
     "name": "stdout",
     "output_type": "stream",
     "text": [
      "                                  train_count  test_count\n",
      "e6472c7237327dd3903b3d6f6a94515a       2533.0      3854.0\n",
      "6e5c10246156ae5bdcd9b487ca99d96a        711.0       972.0\n",
      "8f5a9c893f6d602f4953fcc0b8e6e9b4        410.0       601.0\n",
      "62b685cc0d876c3a1a51d63a0d6a8082        402.0       554.0\n",
      "cb87dadbca78fad02b388dc9e8f25a5b        373.0       598.0\n",
      "9df32cb8dda19d3222d66e69e258616b        330.0       532.0\n",
      "b7de4cb395920136663132057fa89d84        320.0       529.0\n",
      "2aa9bfa5f67ed9997ea341dee8a3a271        316.0       537.0\n",
      "ad3d8ddc52c7e0859b5c6c7f7949c3bd        305.0       427.0\n",
      "c9c33695ee2a2f818e9f1d8f7d1c4b39        299.0       432.0\n"
     ]
    }
   ],
   "source": [
    "# sort by ascending \n",
    "print(managers.sort_values(by='train_count', ascending = False).head(10))"
   ]
  },
  {
   "cell_type": "code",
   "execution_count": 59,
   "metadata": {
    "collapsed": false
   },
   "outputs": [
    {
     "data": {
      "image/png": "[encoded data removed]",
      "text/plain": [
       "<matplotlib.figure.Figure at 0x43e28a20>"
      ]
     },
     "metadata": {},
     "output_type": "display_data"
    }
   ],
   "source": [
    "# look at cumulative distribution \n",
    "\n",
    "fig, axes = plt.subplots(1,2, figsize = (12, 5))\n",
    "\n",
    "temp1 = managers['train_count'].dropna().sort_values(ascending = False).reset_index(drop = True)\n",
    "\n"
   ]
  },
  {
   "cell_type": "code",
   "execution_count": 66,
   "metadata": {
    "collapsed": false
   },
   "outputs": [
    {
     "data": {
      "text/plain": [
       "<matplotlib.text.Text at 0x2ae49748>"
      ]
     },
     "execution_count": 66,
     "metadata": {},
     "output_type": "execute_result"
    },
    {
     "data": {
      "image/png": "[encoded data removed]",
      "text/plain": [
       "<matplotlib.figure.Figure at 0x2b16e978>"
      ]
     },
     "metadata": {},
     "output_type": "display_data"
    }
   ],
   "source": [
    "fig, axes = plt.subplots(1,2, figsize = (12, 5))\n",
    "\n",
    "axes[0].plot(temp1.index + 1, temp1.cumsum()/temp1.sum())\n",
    "\n",
    "temp2 = managers['test_count'].dropna().sort_values(ascending = False).reset_index(drop = True)\n",
    "axes[1].plot(temp2.index + 1, temp2.cumsum() / temp2.sum())\n",
    "\n",
    "axes[1].set_title('Cumulative Test Count')"
   ]
  },
  {
   "cell_type": "code",
   "execution_count": 72,
   "metadata": {
    "collapsed": true
   },
   "outputs": [],
   "source": [
    "# Pareto principle, where 20% of managers are responsible for ~80% of the total listings \n",
    "\n",
    "ix20 = int(len(managers['test_count'].dropna()) * 0.2)\n",
    "# percentage \n",
    "\n",
    "va20 =( managers['test_count'].dropna().sort_values(ascending = False).cumsum().iloc[ix20] / managers['test_count'].sum() * 100)"
   ]
  },
  {
   "cell_type": "code",
   "execution_count": 75,
   "metadata": {
    "collapsed": false
   },
   "outputs": [
    {
     "name": "stdout",
     "output_type": "stream",
     "text": [
      "TEST: 20 %(770) of managers are responsible for 78.24% of listings\n"
     ]
    }
   ],
   "source": [
    "print 'TEST: 20 %({}) of managers are responsible for {:.2f}% of listings'.format(ix20, va20)"
   ]
  },
  {
   "cell_type": "code",
   "execution_count": 78,
   "metadata": {
    "collapsed": false
   },
   "outputs": [
    {
     "name": "stdout",
     "output_type": "stream",
     "text": [
      "548\n"
     ]
    },
    {
     "data": {
      "text/plain": [
       "918"
      ]
     },
     "execution_count": 78,
     "metadata": {},
     "output_type": "execute_result"
    }
   ],
   "source": [
    "# find out the number of unique managers in each of the files \n",
    "# you can make a set (one way), another way is to count the number of null values \n",
    "\n",
    "print managers[managers['test_count'].isnull() == True].count()[0]\n",
    "managers[managers['train_count'].isnull() == True].count()[1]\n",
    "\n",
    "# 548 that were in train but not in test \n",
    "# 918 that were in test, but not in train \n"
   ]
  },
  {
   "cell_type": "code",
   "execution_count": 81,
   "metadata": {
    "collapsed": false
   },
   "outputs": [
    {
     "data": {
      "text/html": [
       "<div>\n",
       "<table border=\"1\" class=\"dataframe\">\n",
       "  <thead>\n",
       "    <tr style=\"text-align: right;\">\n",
       "      <th></th>\n",
       "      <th>train_count</th>\n",
       "      <th>test_count</th>\n",
       "    </tr>\n",
       "  </thead>\n",
       "  <tbody>\n",
       "    <tr>\n",
       "      <th>train_count</th>\n",
       "      <td>1.000000</td>\n",
       "      <td>0.995633</td>\n",
       "    </tr>\n",
       "    <tr>\n",
       "      <th>test_count</th>\n",
       "      <td>0.995633</td>\n",
       "      <td>1.000000</td>\n",
       "    </tr>\n",
       "  </tbody>\n",
       "</table>\n",
       "</div>"
      ],
      "text/plain": [
       "             train_count  test_count\n",
       "train_count     1.000000    0.995633\n",
       "test_count      0.995633    1.000000"
      ]
     },
     "execution_count": 81,
     "metadata": {},
     "output_type": "execute_result"
    }
   ],
   "source": [
    "# find correlation between them train_count and test_count \n",
    "\n",
    "managers.sort_values(by='train_count' , ascending = False).corr()\n"
   ]
  },
  {
   "cell_type": "code",
   "execution_count": 83,
   "metadata": {
    "collapsed": false
   },
   "outputs": [
    {
     "data": {
      "text/plain": [
       "<matplotlib.axes._subplots.AxesSubplot at 0x2ad749e8>"
      ]
     },
     "execution_count": 83,
     "metadata": {},
     "output_type": "execute_result"
    },
    {
     "data": {
      "image/png": "[encoded data removed]",
      "text/plain": [
       "<matplotlib.figure.Figure at 0x3b485208>"
      ]
     },
     "metadata": {},
     "output_type": "display_data"
    }
   ],
   "source": [
    "# look at the correlation between the two varaibles (train and test )\n",
    "\n",
    "# plot scatter \n",
    "managers.sort_values(by = 'train_count', ascending = False).head(100).plot.scatter(x = 'train_count', y = 'test_count')"
   ]
  },
  {
   "cell_type": "code",
   "execution_count": 88,
   "metadata": {
    "collapsed": false
   },
   "outputs": [
    {
     "name": "stdout",
     "output_type": "stream",
     "text": [
      "                          manager_id   count  percentage\n",
      "0   e6472c7237327dd3903b3d6f6a94515a  2533.0    5.132517\n",
      "1   6e5c10246156ae5bdcd9b487ca99d96a   711.0    6.573189\n",
      "2   8f5a9c893f6d602f4953fcc0b8e6e9b4   410.0    7.403955\n",
      "3   62b685cc0d876c3a1a51d63a0d6a8082   402.0    8.218512\n",
      "4   cb87dadbca78fad02b388dc9e8f25a5b   373.0    8.974307\n",
      "5   9df32cb8dda19d3222d66e69e258616b   330.0    9.642973\n",
      "6   b7de4cb395920136663132057fa89d84   320.0   10.291376\n",
      "7   2aa9bfa5f67ed9997ea341dee8a3a271   316.0   10.931675\n",
      "8   ad3d8ddc52c7e0859b5c6c7f7949c3bd   305.0   11.549684\n",
      "9   c9c33695ee2a2f818e9f1d8f7d1c4b39   299.0   12.155536\n",
      "10  1fb46c4a72bcf764ac35fc23f394760d   289.0   12.741125\n",
      "11  d2bce61e0e0079ebdc8c281e415e045b   276.0   13.300373\n",
      "12  5599e962719af3ccc2976855c2d5893c   256.0   13.819095\n",
      "13  aa9e353a6b43b125cbc89cb751090a9e   246.0   14.317556\n",
      "14  62826f3ae01f2ddc93b9cd28c659ab2b   233.0   14.789674\n",
      "15  8b53ccf4338806ab1be3dd0267711649   222.0   15.239504\n",
      "16  612a00076aefe8c98d1df4835640c74b   214.0   15.673124\n",
      "17  dbbb6b990661b1e507a387f019bcb1a0   212.0   16.102691\n",
      "18  b209e2c4384a64cc307c26759ee0c651   210.0   16.528206\n",
      "19  8262449f40e9117f7a9ea49b4a333993   210.0   16.953720\n",
      "20  fc81b75568d3655a922523cb0d77ea5b   206.0   17.371130\n",
      "21  d1737922fe92ccb0dc37ba85589e6415   198.0   17.772329\n",
      "22  1067e078446a7897d2da493d2f741316   191.0   18.159345\n",
      "23  501b52559fd21b32808030a0f4fb1a26   170.0   18.503809\n",
      "24  02e17b21a1814fb10336b2ee8ceb3e79   170.0   18.848274\n",
      "25  381040570cc863b743a9fce1a6ae9724   169.0   19.190712\n",
      "26  30a7951cfc21240e8c46b2d079d292e5   169.0   19.533150\n",
      "27  eb5a6c4c2eb6f3e2a085c477afd5a815   168.0   19.873561\n",
      "28  d399821d8583b8421a55370c6eb15f6f   167.0   20.211947\n",
      "29  9d32b720e26a351b951c8f78f72f2fec   164.0   20.544254\n",
      "..                               ...     ...         ...\n",
      "70  ab8c9250b384ccd4867aac5498d9a78f    94.0   30.377695\n",
      "71  c8b10a317b766204f08e613cef4ce7a0    93.0   30.566137\n",
      "72  d24abc331d8b47f73a369795690c010a    93.0   30.754579\n",
      "73  26d69329a0f3b9abecbddd6abcb5b622    93.0   30.943022\n",
      "74  12c0a30e296faa0dfd422fe918d7d4f4    91.0   31.127411\n",
      "75  be1a7235af23dd77d0d1029dd5bfa5e9    91.0   31.311801\n",
      "76  babf967aeb47132007ac2dd76c204d49    90.0   31.494164\n",
      "77  34545e3e23ce49e85d161ff75309d0f6    90.0   31.676528\n",
      "78  5ba989232d0489da1b5f2c45f6688adc    90.0   31.858891\n",
      "79  964dc31a872efa33fee9af11f62e843c    89.0   32.039228\n",
      "80  77f81a0a8af6db8349587acefd1b533f    87.0   32.215513\n",
      "81  5a002b00880a84406292a8dfe54f8c72    87.0   32.391798\n",
      "82  c1a6598437b7db560cde66e5a297a53f    86.0   32.566056\n",
      "83  7533621a882f71e25173b27e3139d83d    86.0   32.740314\n",
      "84  2983e45f7e0ad87d677dacd13e362785    85.0   32.912547\n",
      "85  0f57223e3bbd5222d9881a442aba0d03    85.0   33.084779\n",
      "86  d4e72926d837c6ca5849c62cead367b4    85.0   33.257011\n",
      "87  e0f4c69279ce5ae6421b39d46303554b    84.0   33.427217\n",
      "88  03a4fc35175366d742f77d25dcbc570d    83.0   33.595396\n",
      "89  8365f1154ced533439de202ebada41e2    83.0   33.763576\n",
      "90  045f9f5708f6896535892b85a81d8151    83.0   33.931756\n",
      "91  39af186286605963b1d75543e1492c61    82.0   34.097909\n",
      "92  5642b01c61afd6b54601365aedc96b68    82.0   34.264062\n",
      "93  a7318e9bd83f6d32ed56b3b1d046b449    82.0   34.430216\n",
      "94  a21c0ea7f452539ee52293a199e40236    81.0   34.594343\n",
      "95  9ba3641676cc717a8b65d59dac8545fb    81.0   34.758470\n",
      "96  536aaedf27d13fb487c142dae8133211    80.0   34.920571\n",
      "97  bc9a2ff7c931ce7de08f50d429134a16    80.0   35.082671\n",
      "98  5c7ca9f5239f481c0f35f3faaff188bd    79.0   35.242746\n",
      "99  324631e1aacaa41bc4475f879756bbb6    79.0   35.402821\n",
      "\n",
      "[100 rows x 3 columns]\n"
     ]
    }
   ],
   "source": [
    "# how much cumulative sum do the managers make up (top 100, top 1000? )\n",
    "\n",
    "# how do we tackle this problem \n",
    "\n",
    "\n",
    "temp = managers['train_count'].sort_values(ascending = False).head(100)\n",
    "\n",
    "temp = pd.concat([temp, temp.cumsum()/managers['train_count'].sum() * 100], axis = 1).reset_index()\n",
    "\n",
    "temp.columns = (['manager_id', 'count', 'percentage'])\n",
    "\n",
    "print temp\n",
    "\n",
    "\n",
    "# see 1000 managers \n",
    "\n"
   ]
  },
  {
   "cell_type": "code",
   "execution_count": 92,
   "metadata": {
    "collapsed": false
   },
   "outputs": [],
   "source": [
    "# lets look at these managers' interest level for each of the 100 managers \n",
    "man_list = managers['train_count'].sort_values(ascending = False).head(100).index\n",
    "\n",
    "ixes = train.manager_id.isin(man_list)\n",
    "df100 = train[ixes][['manager_id','interest_level']]\n",
    "\n",
    "interest_dummies = pd.get_dummies(df100.interest_level)\n",
    "df100 = pd.concat([df100,interest_dummies[['low','medium','high']]], axis = 1).drop('interest_level', axis = 1)"
   ]
  },
  {
   "cell_type": "code",
   "execution_count": 93,
   "metadata": {
    "collapsed": false
   },
   "outputs": [
    {
     "name": "stdout",
     "output_type": "stream",
     "text": [
      "The top100 contributors account for 17472 entries\n",
      "\n",
      "                              manager_id  low  medium  high\n",
      "10      5ba989232d0489da1b5f2c45f6688adc  0.0     1.0   0.0\n",
      "10000   7533621a882f71e25173b27e3139d83d  1.0     0.0   0.0\n",
      "100004  d9039c43983f6e564b1482b273bd7b01  0.0     0.0   1.0\n",
      "100007  1067e078446a7897d2da493d2f741316  1.0     0.0   0.0\n",
      "100014  b209e2c4384a64cc307c26759ee0c651  0.0     1.0   0.0\n",
      "100020  e6472c7237327dd3903b3d6f6a94515a  1.0     0.0   0.0\n",
      "100026  c1a6598437b7db560cde66e5a297a53f  0.0     1.0   0.0\n",
      "100044  537e06890f6a86dbb70c187db5be4d55  0.0     0.0   1.0\n",
      "100051  dbbb6b990661b1e507a387f019bcb1a0  0.0     1.0   0.0\n",
      "100055  8f5a9c893f6d602f4953fcc0b8e6e9b4  1.0     0.0   0.0\n"
     ]
    }
   ],
   "source": [
    "print(\"The top100 contributors account for {} entries\\n\".format(len(df100)))\n",
    "\n",
    "print(df100.head(10))"
   ]
  },
  {
   "cell_type": "code",
   "execution_count": 95,
   "metadata": {
    "collapsed": false
   },
   "outputs": [
    {
     "data": {
      "text/html": [
       "<div>\n",
       "<table border=\"1\" class=\"dataframe\">\n",
       "  <thead>\n",
       "    <tr style=\"text-align: right;\">\n",
       "      <th></th>\n",
       "      <th>low</th>\n",
       "      <th>medium</th>\n",
       "      <th>high</th>\n",
       "    </tr>\n",
       "    <tr>\n",
       "      <th>manager_id</th>\n",
       "      <th></th>\n",
       "      <th></th>\n",
       "      <th></th>\n",
       "    </tr>\n",
       "  </thead>\n",
       "  <tbody>\n",
       "    <tr>\n",
       "      <th>e6472c7237327dd3903b3d6f6a94515a</th>\n",
       "      <td>2533</td>\n",
       "      <td>2533</td>\n",
       "      <td>2533</td>\n",
       "    </tr>\n",
       "    <tr>\n",
       "      <th>6e5c10246156ae5bdcd9b487ca99d96a</th>\n",
       "      <td>711</td>\n",
       "      <td>711</td>\n",
       "      <td>711</td>\n",
       "    </tr>\n",
       "    <tr>\n",
       "      <th>8f5a9c893f6d602f4953fcc0b8e6e9b4</th>\n",
       "      <td>410</td>\n",
       "      <td>410</td>\n",
       "      <td>410</td>\n",
       "    </tr>\n",
       "    <tr>\n",
       "      <th>62b685cc0d876c3a1a51d63a0d6a8082</th>\n",
       "      <td>402</td>\n",
       "      <td>402</td>\n",
       "      <td>402</td>\n",
       "    </tr>\n",
       "    <tr>\n",
       "      <th>cb87dadbca78fad02b388dc9e8f25a5b</th>\n",
       "      <td>373</td>\n",
       "      <td>373</td>\n",
       "      <td>373</td>\n",
       "    </tr>\n",
       "    <tr>\n",
       "      <th>9df32cb8dda19d3222d66e69e258616b</th>\n",
       "      <td>330</td>\n",
       "      <td>330</td>\n",
       "      <td>330</td>\n",
       "    </tr>\n",
       "    <tr>\n",
       "      <th>b7de4cb395920136663132057fa89d84</th>\n",
       "      <td>320</td>\n",
       "      <td>320</td>\n",
       "      <td>320</td>\n",
       "    </tr>\n",
       "    <tr>\n",
       "      <th>2aa9bfa5f67ed9997ea341dee8a3a271</th>\n",
       "      <td>316</td>\n",
       "      <td>316</td>\n",
       "      <td>316</td>\n",
       "    </tr>\n",
       "    <tr>\n",
       "      <th>ad3d8ddc52c7e0859b5c6c7f7949c3bd</th>\n",
       "      <td>305</td>\n",
       "      <td>305</td>\n",
       "      <td>305</td>\n",
       "    </tr>\n",
       "    <tr>\n",
       "      <th>c9c33695ee2a2f818e9f1d8f7d1c4b39</th>\n",
       "      <td>299</td>\n",
       "      <td>299</td>\n",
       "      <td>299</td>\n",
       "    </tr>\n",
       "    <tr>\n",
       "      <th>1fb46c4a72bcf764ac35fc23f394760d</th>\n",
       "      <td>289</td>\n",
       "      <td>289</td>\n",
       "      <td>289</td>\n",
       "    </tr>\n",
       "    <tr>\n",
       "      <th>d2bce61e0e0079ebdc8c281e415e045b</th>\n",
       "      <td>276</td>\n",
       "      <td>276</td>\n",
       "      <td>276</td>\n",
       "    </tr>\n",
       "    <tr>\n",
       "      <th>5599e962719af3ccc2976855c2d5893c</th>\n",
       "      <td>256</td>\n",
       "      <td>256</td>\n",
       "      <td>256</td>\n",
       "    </tr>\n",
       "    <tr>\n",
       "      <th>aa9e353a6b43b125cbc89cb751090a9e</th>\n",
       "      <td>246</td>\n",
       "      <td>246</td>\n",
       "      <td>246</td>\n",
       "    </tr>\n",
       "    <tr>\n",
       "      <th>62826f3ae01f2ddc93b9cd28c659ab2b</th>\n",
       "      <td>233</td>\n",
       "      <td>233</td>\n",
       "      <td>233</td>\n",
       "    </tr>\n",
       "    <tr>\n",
       "      <th>8b53ccf4338806ab1be3dd0267711649</th>\n",
       "      <td>222</td>\n",
       "      <td>222</td>\n",
       "      <td>222</td>\n",
       "    </tr>\n",
       "    <tr>\n",
       "      <th>612a00076aefe8c98d1df4835640c74b</th>\n",
       "      <td>214</td>\n",
       "      <td>214</td>\n",
       "      <td>214</td>\n",
       "    </tr>\n",
       "    <tr>\n",
       "      <th>dbbb6b990661b1e507a387f019bcb1a0</th>\n",
       "      <td>212</td>\n",
       "      <td>212</td>\n",
       "      <td>212</td>\n",
       "    </tr>\n",
       "    <tr>\n",
       "      <th>b209e2c4384a64cc307c26759ee0c651</th>\n",
       "      <td>210</td>\n",
       "      <td>210</td>\n",
       "      <td>210</td>\n",
       "    </tr>\n",
       "    <tr>\n",
       "      <th>8262449f40e9117f7a9ea49b4a333993</th>\n",
       "      <td>210</td>\n",
       "      <td>210</td>\n",
       "      <td>210</td>\n",
       "    </tr>\n",
       "    <tr>\n",
       "      <th>fc81b75568d3655a922523cb0d77ea5b</th>\n",
       "      <td>206</td>\n",
       "      <td>206</td>\n",
       "      <td>206</td>\n",
       "    </tr>\n",
       "    <tr>\n",
       "      <th>d1737922fe92ccb0dc37ba85589e6415</th>\n",
       "      <td>198</td>\n",
       "      <td>198</td>\n",
       "      <td>198</td>\n",
       "    </tr>\n",
       "    <tr>\n",
       "      <th>1067e078446a7897d2da493d2f741316</th>\n",
       "      <td>191</td>\n",
       "      <td>191</td>\n",
       "      <td>191</td>\n",
       "    </tr>\n",
       "    <tr>\n",
       "      <th>501b52559fd21b32808030a0f4fb1a26</th>\n",
       "      <td>170</td>\n",
       "      <td>170</td>\n",
       "      <td>170</td>\n",
       "    </tr>\n",
       "    <tr>\n",
       "      <th>02e17b21a1814fb10336b2ee8ceb3e79</th>\n",
       "      <td>170</td>\n",
       "      <td>170</td>\n",
       "      <td>170</td>\n",
       "    </tr>\n",
       "    <tr>\n",
       "      <th>30a7951cfc21240e8c46b2d079d292e5</th>\n",
       "      <td>169</td>\n",
       "      <td>169</td>\n",
       "      <td>169</td>\n",
       "    </tr>\n",
       "    <tr>\n",
       "      <th>381040570cc863b743a9fce1a6ae9724</th>\n",
       "      <td>169</td>\n",
       "      <td>169</td>\n",
       "      <td>169</td>\n",
       "    </tr>\n",
       "    <tr>\n",
       "      <th>eb5a6c4c2eb6f3e2a085c477afd5a815</th>\n",
       "      <td>168</td>\n",
       "      <td>168</td>\n",
       "      <td>168</td>\n",
       "    </tr>\n",
       "    <tr>\n",
       "      <th>d399821d8583b8421a55370c6eb15f6f</th>\n",
       "      <td>167</td>\n",
       "      <td>167</td>\n",
       "      <td>167</td>\n",
       "    </tr>\n",
       "    <tr>\n",
       "      <th>9d32b720e26a351b951c8f78f72f2fec</th>\n",
       "      <td>164</td>\n",
       "      <td>164</td>\n",
       "      <td>164</td>\n",
       "    </tr>\n",
       "    <tr>\n",
       "      <th>...</th>\n",
       "      <td>...</td>\n",
       "      <td>...</td>\n",
       "      <td>...</td>\n",
       "    </tr>\n",
       "    <tr>\n",
       "      <th>ab8c9250b384ccd4867aac5498d9a78f</th>\n",
       "      <td>94</td>\n",
       "      <td>94</td>\n",
       "      <td>94</td>\n",
       "    </tr>\n",
       "    <tr>\n",
       "      <th>26d69329a0f3b9abecbddd6abcb5b622</th>\n",
       "      <td>93</td>\n",
       "      <td>93</td>\n",
       "      <td>93</td>\n",
       "    </tr>\n",
       "    <tr>\n",
       "      <th>d24abc331d8b47f73a369795690c010a</th>\n",
       "      <td>93</td>\n",
       "      <td>93</td>\n",
       "      <td>93</td>\n",
       "    </tr>\n",
       "    <tr>\n",
       "      <th>c8b10a317b766204f08e613cef4ce7a0</th>\n",
       "      <td>93</td>\n",
       "      <td>93</td>\n",
       "      <td>93</td>\n",
       "    </tr>\n",
       "    <tr>\n",
       "      <th>12c0a30e296faa0dfd422fe918d7d4f4</th>\n",
       "      <td>91</td>\n",
       "      <td>91</td>\n",
       "      <td>91</td>\n",
       "    </tr>\n",
       "    <tr>\n",
       "      <th>be1a7235af23dd77d0d1029dd5bfa5e9</th>\n",
       "      <td>91</td>\n",
       "      <td>91</td>\n",
       "      <td>91</td>\n",
       "    </tr>\n",
       "    <tr>\n",
       "      <th>5ba989232d0489da1b5f2c45f6688adc</th>\n",
       "      <td>90</td>\n",
       "      <td>90</td>\n",
       "      <td>90</td>\n",
       "    </tr>\n",
       "    <tr>\n",
       "      <th>34545e3e23ce49e85d161ff75309d0f6</th>\n",
       "      <td>90</td>\n",
       "      <td>90</td>\n",
       "      <td>90</td>\n",
       "    </tr>\n",
       "    <tr>\n",
       "      <th>babf967aeb47132007ac2dd76c204d49</th>\n",
       "      <td>90</td>\n",
       "      <td>90</td>\n",
       "      <td>90</td>\n",
       "    </tr>\n",
       "    <tr>\n",
       "      <th>964dc31a872efa33fee9af11f62e843c</th>\n",
       "      <td>89</td>\n",
       "      <td>89</td>\n",
       "      <td>89</td>\n",
       "    </tr>\n",
       "    <tr>\n",
       "      <th>5a002b00880a84406292a8dfe54f8c72</th>\n",
       "      <td>87</td>\n",
       "      <td>87</td>\n",
       "      <td>87</td>\n",
       "    </tr>\n",
       "    <tr>\n",
       "      <th>77f81a0a8af6db8349587acefd1b533f</th>\n",
       "      <td>87</td>\n",
       "      <td>87</td>\n",
       "      <td>87</td>\n",
       "    </tr>\n",
       "    <tr>\n",
       "      <th>c1a6598437b7db560cde66e5a297a53f</th>\n",
       "      <td>86</td>\n",
       "      <td>86</td>\n",
       "      <td>86</td>\n",
       "    </tr>\n",
       "    <tr>\n",
       "      <th>7533621a882f71e25173b27e3139d83d</th>\n",
       "      <td>86</td>\n",
       "      <td>86</td>\n",
       "      <td>86</td>\n",
       "    </tr>\n",
       "    <tr>\n",
       "      <th>0f57223e3bbd5222d9881a442aba0d03</th>\n",
       "      <td>85</td>\n",
       "      <td>85</td>\n",
       "      <td>85</td>\n",
       "    </tr>\n",
       "    <tr>\n",
       "      <th>2983e45f7e0ad87d677dacd13e362785</th>\n",
       "      <td>85</td>\n",
       "      <td>85</td>\n",
       "      <td>85</td>\n",
       "    </tr>\n",
       "    <tr>\n",
       "      <th>d4e72926d837c6ca5849c62cead367b4</th>\n",
       "      <td>85</td>\n",
       "      <td>85</td>\n",
       "      <td>85</td>\n",
       "    </tr>\n",
       "    <tr>\n",
       "      <th>e0f4c69279ce5ae6421b39d46303554b</th>\n",
       "      <td>84</td>\n",
       "      <td>84</td>\n",
       "      <td>84</td>\n",
       "    </tr>\n",
       "    <tr>\n",
       "      <th>8365f1154ced533439de202ebada41e2</th>\n",
       "      <td>83</td>\n",
       "      <td>83</td>\n",
       "      <td>83</td>\n",
       "    </tr>\n",
       "    <tr>\n",
       "      <th>03a4fc35175366d742f77d25dcbc570d</th>\n",
       "      <td>83</td>\n",
       "      <td>83</td>\n",
       "      <td>83</td>\n",
       "    </tr>\n",
       "    <tr>\n",
       "      <th>045f9f5708f6896535892b85a81d8151</th>\n",
       "      <td>83</td>\n",
       "      <td>83</td>\n",
       "      <td>83</td>\n",
       "    </tr>\n",
       "    <tr>\n",
       "      <th>a7318e9bd83f6d32ed56b3b1d046b449</th>\n",
       "      <td>82</td>\n",
       "      <td>82</td>\n",
       "      <td>82</td>\n",
       "    </tr>\n",
       "    <tr>\n",
       "      <th>39af186286605963b1d75543e1492c61</th>\n",
       "      <td>82</td>\n",
       "      <td>82</td>\n",
       "      <td>82</td>\n",
       "    </tr>\n",
       "    <tr>\n",
       "      <th>5642b01c61afd6b54601365aedc96b68</th>\n",
       "      <td>82</td>\n",
       "      <td>82</td>\n",
       "      <td>82</td>\n",
       "    </tr>\n",
       "    <tr>\n",
       "      <th>9ba3641676cc717a8b65d59dac8545fb</th>\n",
       "      <td>81</td>\n",
       "      <td>81</td>\n",
       "      <td>81</td>\n",
       "    </tr>\n",
       "    <tr>\n",
       "      <th>a21c0ea7f452539ee52293a199e40236</th>\n",
       "      <td>81</td>\n",
       "      <td>81</td>\n",
       "      <td>81</td>\n",
       "    </tr>\n",
       "    <tr>\n",
       "      <th>bc9a2ff7c931ce7de08f50d429134a16</th>\n",
       "      <td>80</td>\n",
       "      <td>80</td>\n",
       "      <td>80</td>\n",
       "    </tr>\n",
       "    <tr>\n",
       "      <th>536aaedf27d13fb487c142dae8133211</th>\n",
       "      <td>80</td>\n",
       "      <td>80</td>\n",
       "      <td>80</td>\n",
       "    </tr>\n",
       "    <tr>\n",
       "      <th>324631e1aacaa41bc4475f879756bbb6</th>\n",
       "      <td>79</td>\n",
       "      <td>79</td>\n",
       "      <td>79</td>\n",
       "    </tr>\n",
       "    <tr>\n",
       "      <th>5c7ca9f5239f481c0f35f3faaff188bd</th>\n",
       "      <td>79</td>\n",
       "      <td>79</td>\n",
       "      <td>79</td>\n",
       "    </tr>\n",
       "  </tbody>\n",
       "</table>\n",
       "<p>100 rows × 3 columns</p>\n",
       "</div>"
      ],
      "text/plain": [
       "                                   low  medium  high\n",
       "manager_id                                          \n",
       "e6472c7237327dd3903b3d6f6a94515a  2533    2533  2533\n",
       "6e5c10246156ae5bdcd9b487ca99d96a   711     711   711\n",
       "8f5a9c893f6d602f4953fcc0b8e6e9b4   410     410   410\n",
       "62b685cc0d876c3a1a51d63a0d6a8082   402     402   402\n",
       "cb87dadbca78fad02b388dc9e8f25a5b   373     373   373\n",
       "9df32cb8dda19d3222d66e69e258616b   330     330   330\n",
       "b7de4cb395920136663132057fa89d84   320     320   320\n",
       "2aa9bfa5f67ed9997ea341dee8a3a271   316     316   316\n",
       "ad3d8ddc52c7e0859b5c6c7f7949c3bd   305     305   305\n",
       "c9c33695ee2a2f818e9f1d8f7d1c4b39   299     299   299\n",
       "1fb46c4a72bcf764ac35fc23f394760d   289     289   289\n",
       "d2bce61e0e0079ebdc8c281e415e045b   276     276   276\n",
       "5599e962719af3ccc2976855c2d5893c   256     256   256\n",
       "aa9e353a6b43b125cbc89cb751090a9e   246     246   246\n",
       "62826f3ae01f2ddc93b9cd28c659ab2b   233     233   233\n",
       "8b53ccf4338806ab1be3dd0267711649   222     222   222\n",
       "612a00076aefe8c98d1df4835640c74b   214     214   214\n",
       "dbbb6b990661b1e507a387f019bcb1a0   212     212   212\n",
       "b209e2c4384a64cc307c26759ee0c651   210     210   210\n",
       "8262449f40e9117f7a9ea49b4a333993   210     210   210\n",
       "fc81b75568d3655a922523cb0d77ea5b   206     206   206\n",
       "d1737922fe92ccb0dc37ba85589e6415   198     198   198\n",
       "1067e078446a7897d2da493d2f741316   191     191   191\n",
       "501b52559fd21b32808030a0f4fb1a26   170     170   170\n",
       "02e17b21a1814fb10336b2ee8ceb3e79   170     170   170\n",
       "30a7951cfc21240e8c46b2d079d292e5   169     169   169\n",
       "381040570cc863b743a9fce1a6ae9724   169     169   169\n",
       "eb5a6c4c2eb6f3e2a085c477afd5a815   168     168   168\n",
       "d399821d8583b8421a55370c6eb15f6f   167     167   167\n",
       "9d32b720e26a351b951c8f78f72f2fec   164     164   164\n",
       "...                                ...     ...   ...\n",
       "ab8c9250b384ccd4867aac5498d9a78f    94      94    94\n",
       "26d69329a0f3b9abecbddd6abcb5b622    93      93    93\n",
       "d24abc331d8b47f73a369795690c010a    93      93    93\n",
       "c8b10a317b766204f08e613cef4ce7a0    93      93    93\n",
       "12c0a30e296faa0dfd422fe918d7d4f4    91      91    91\n",
       "be1a7235af23dd77d0d1029dd5bfa5e9    91      91    91\n",
       "5ba989232d0489da1b5f2c45f6688adc    90      90    90\n",
       "34545e3e23ce49e85d161ff75309d0f6    90      90    90\n",
       "babf967aeb47132007ac2dd76c204d49    90      90    90\n",
       "964dc31a872efa33fee9af11f62e843c    89      89    89\n",
       "5a002b00880a84406292a8dfe54f8c72    87      87    87\n",
       "77f81a0a8af6db8349587acefd1b533f    87      87    87\n",
       "c1a6598437b7db560cde66e5a297a53f    86      86    86\n",
       "7533621a882f71e25173b27e3139d83d    86      86    86\n",
       "0f57223e3bbd5222d9881a442aba0d03    85      85    85\n",
       "2983e45f7e0ad87d677dacd13e362785    85      85    85\n",
       "d4e72926d837c6ca5849c62cead367b4    85      85    85\n",
       "e0f4c69279ce5ae6421b39d46303554b    84      84    84\n",
       "8365f1154ced533439de202ebada41e2    83      83    83\n",
       "03a4fc35175366d742f77d25dcbc570d    83      83    83\n",
       "045f9f5708f6896535892b85a81d8151    83      83    83\n",
       "a7318e9bd83f6d32ed56b3b1d046b449    82      82    82\n",
       "39af186286605963b1d75543e1492c61    82      82    82\n",
       "5642b01c61afd6b54601365aedc96b68    82      82    82\n",
       "9ba3641676cc717a8b65d59dac8545fb    81      81    81\n",
       "a21c0ea7f452539ee52293a199e40236    81      81    81\n",
       "bc9a2ff7c931ce7de08f50d429134a16    80      80    80\n",
       "536aaedf27d13fb487c142dae8133211    80      80    80\n",
       "324631e1aacaa41bc4475f879756bbb6    79      79    79\n",
       "5c7ca9f5239f481c0f35f3faaff188bd    79      79    79\n",
       "\n",
       "[100 rows x 3 columns]"
      ]
     },
     "execution_count": 95,
     "metadata": {},
     "output_type": "execute_result"
    }
   ],
   "source": [
    "df100.groupby('manager_id').count().sort_values(by='low', ascending = False)"
   ]
  },
  {
   "cell_type": "code",
   "execution_count": null,
   "metadata": {
    "collapsed": true
   },
   "outputs": [],
   "source": []
  }
 ],
 "metadata": {
  "anaconda-cloud": {},
  "kernelspec": {
   "display_name": "Python [Root]",
   "language": "python",
   "name": "Python [Root]"
  },
  "language_info": {
   "codemirror_mode": {
    "name": "ipython",
    "version": 2
   },
   "file_extension": ".py",
   "mimetype": "text/x-python",
   "name": "python",
   "nbconvert_exporter": "python",
   "pygments_lexer": "ipython2",
   "version": "2.7.12"
  }
 },
 "nbformat": 4,
 "nbformat_minor": 0
}
