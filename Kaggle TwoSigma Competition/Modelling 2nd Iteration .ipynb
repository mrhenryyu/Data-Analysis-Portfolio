{
 "cells": [
  {
   "cell_type": "code",
   "execution_count": 1,
   "metadata": {
    "collapsed": true
   },
   "outputs": [],
   "source": [
    "import pandas as pd \n",
    "import numpy as np \n",
    "import os \n",
    "import matplotlib as plt\n",
    "import seaborn as sns\n",
    "%matplotlib inline"
   ]
  },
  {
   "cell_type": "code",
   "execution_count": 3,
   "metadata": {
    "collapsed": false
   },
   "outputs": [],
   "source": [
    "from subprocess import check_output\n",
    "#print(check_output([\"ls\", \".\"]).decode(\"utf8\"))"
   ]
  },
  {
   "cell_type": "code",
   "execution_count": 5,
   "metadata": {
    "collapsed": false
   },
   "outputs": [],
   "source": [
    "train = pd.read_json(r'train.json')\n",
    "test = pd.read_json(r'test.json')"
   ]
  },
  {
   "cell_type": "code",
   "execution_count": 6,
   "metadata": {
    "collapsed": false
   },
   "outputs": [
    {
     "name": "stdout",
     "output_type": "stream",
     "text": [
      "<class 'pandas.core.frame.DataFrame'>\n",
      "Int64Index: 49352 entries, 10 to 99994\n",
      "Data columns (total 15 columns):\n",
      "bathrooms          49352 non-null float64\n",
      "bedrooms           49352 non-null int64\n",
      "building_id        49352 non-null object\n",
      "created            49352 non-null object\n",
      "description        49352 non-null object\n",
      "display_address    49352 non-null object\n",
      "features           49352 non-null object\n",
      "interest_level     49352 non-null object\n",
      "latitude           49352 non-null float64\n",
      "listing_id         49352 non-null int64\n",
      "longitude          49352 non-null float64\n",
      "manager_id         49352 non-null object\n",
      "photos             49352 non-null object\n",
      "price              49352 non-null int64\n",
      "street_address     49352 non-null object\n",
      "dtypes: float64(3), int64(3), object(9)\n",
      "memory usage: 6.0+ MB\n"
     ]
    }
   ],
   "source": [
    "train.info()"
   ]
  },
  {
   "cell_type": "markdown",
   "metadata": {},
   "source": [
    "### Specific Categories to Impliment \n",
    "\n",
    "- the number of photos on listing \n",
    "- the number of features \n",
    "- the length of the description \n",
    "- convert the created into datetime object and extract day / month (year doesn't matter, hours doesn't matter) "
   ]
  },
  {
   "cell_type": "code",
   "execution_count": 7,
   "metadata": {
    "collapsed": true
   },
   "outputs": [],
   "source": [
    "def quantify_features(data):\n",
    "    data['num_photos'] = data['photos'].apply(len)\n",
    "    data['num_features'] = data['features'].apply(len)\n",
    "    data['description_length'] = data.description.apply(lambda x: len(x.split()))\n",
    "    data['created'] = pd.to_datetime(data['created'])\n",
    "    data['created_month'] = data['created'].dt.month\n",
    "    data['created_day'] = data['created'].dt.day\n",
    "    print data.info()"
   ]
  },
  {
   "cell_type": "code",
   "execution_count": 8,
   "metadata": {
    "collapsed": false
   },
   "outputs": [
    {
     "name": "stdout",
     "output_type": "stream",
     "text": [
      "<class 'pandas.core.frame.DataFrame'>\n",
      "Int64Index: 49352 entries, 10 to 99994\n",
      "Data columns (total 20 columns):\n",
      "bathrooms             49352 non-null float64\n",
      "bedrooms              49352 non-null int64\n",
      "building_id           49352 non-null object\n",
      "created               49352 non-null datetime64[ns]\n",
      "description           49352 non-null object\n",
      "display_address       49352 non-null object\n",
      "features              49352 non-null object\n",
      "interest_level        49352 non-null object\n",
      "latitude              49352 non-null float64\n",
      "listing_id            49352 non-null int64\n",
      "longitude             49352 non-null float64\n",
      "manager_id            49352 non-null object\n",
      "photos                49352 non-null object\n",
      "price                 49352 non-null int64\n",
      "street_address        49352 non-null object\n",
      "num_photos            49352 non-null int64\n",
      "num_features          49352 non-null int64\n",
      "description_length    49352 non-null int64\n",
      "created_month         49352 non-null int64\n",
      "created_day           49352 non-null int64\n",
      "dtypes: datetime64[ns](1), float64(3), int64(8), object(8)\n",
      "memory usage: 7.9+ MB\n",
      "None\n",
      "<class 'pandas.core.frame.DataFrame'>\n",
      "Int64Index: 74659 entries, 0 to 99999\n",
      "Data columns (total 19 columns):\n",
      "bathrooms             74659 non-null float64\n",
      "bedrooms              74659 non-null int64\n",
      "building_id           74659 non-null object\n",
      "created               74659 non-null datetime64[ns]\n",
      "description           74659 non-null object\n",
      "display_address       74659 non-null object\n",
      "features              74659 non-null object\n",
      "latitude              74659 non-null float64\n",
      "listing_id            74659 non-null int64\n",
      "longitude             74659 non-null float64\n",
      "manager_id            74659 non-null object\n",
      "photos                74659 non-null object\n",
      "price                 74659 non-null int64\n",
      "street_address        74659 non-null object\n",
      "num_photos            74659 non-null int64\n",
      "num_features          74659 non-null int64\n",
      "description_length    74659 non-null int64\n",
      "created_month         74659 non-null int64\n",
      "created_day           74659 non-null int64\n",
      "dtypes: datetime64[ns](1), float64(3), int64(8), object(7)\n",
      "memory usage: 11.4+ MB\n",
      "None\n"
     ]
    }
   ],
   "source": [
    "quantify_features(train)\n",
    "quantify_features(test)"
   ]
  },
  {
   "cell_type": "code",
   "execution_count": 9,
   "metadata": {
    "collapsed": true
   },
   "outputs": [],
   "source": [
    "# for now, just use the old method, later, we can transform the categorical information using scikit learn\n",
    "# use cat.codes \n",
    "\n",
    "def cat_codes(X):\n",
    "    X[\"street_address\"] = X[\"street_address\"].astype('category').cat.codes\n",
    "    X[\"building_id\"] = X[\"building_id\"].astype('category').cat.codes\n",
    "    X[\"description\"] = X[\"description\"].astype('category').cat.codes\n",
    "    X[\"display_address\"] = X[\"display_address\"].astype('category').cat.codes\n",
    "    X[\"manager_id\"] = X[\"manager_id\"].astype('category').cat.codes\n"
   ]
  },
  {
   "cell_type": "code",
   "execution_count": 10,
   "metadata": {
    "collapsed": true
   },
   "outputs": [],
   "source": [
    "cat_codes(train)\n",
    "cat_codes(test)"
   ]
  },
  {
   "cell_type": "code",
   "execution_count": 25,
   "metadata": {
    "collapsed": true
   },
   "outputs": [],
   "source": [
    "# featureset \n",
    "features = [ 'description', 'display_address',  'created_day', \n",
    "           'created_month', 'num_photos', 'num_features', 'description_length', 'longitude', 'latitude', 'price',\n",
    "           'bathrooms', 'bedrooms']"
   ]
  },
  {
   "cell_type": "code",
   "execution_count": 26,
   "metadata": {
    "collapsed": false
   },
   "outputs": [
    {
     "name": "stdout",
     "output_type": "stream",
     "text": [
      "<class 'pandas.core.frame.DataFrame'>\n",
      "Int64Index: 49352 entries, 10 to 99994\n",
      "Data columns (total 12 columns):\n",
      "description           49352 non-null int32\n",
      "display_address       49352 non-null int16\n",
      "created_day           49352 non-null int64\n",
      "created_month         49352 non-null int64\n",
      "num_photos            49352 non-null int64\n",
      "num_features          49352 non-null int64\n",
      "description_length    49352 non-null int64\n",
      "longitude             49352 non-null float64\n",
      "latitude              49352 non-null float64\n",
      "price                 49352 non-null int64\n",
      "bathrooms             49352 non-null float64\n",
      "bedrooms              49352 non-null int64\n",
      "dtypes: float64(3), int16(1), int32(1), int64(7)\n",
      "memory usage: 4.4 MB\n"
     ]
    },
    {
     "data": {
      "text/plain": [
       "category"
      ]
     },
     "execution_count": 26,
     "metadata": {},
     "output_type": "execute_result"
    }
   ],
   "source": [
    "X = train.drop('interest_level', 1)\n",
    "X = X[features]\n",
    "X.info()\n",
    "Y = train['interest_level'].astype('category')\n",
    "Y.dtype"
   ]
  },
  {
   "cell_type": "markdown",
   "metadata": {},
   "source": [
    "### Model Building \n",
    "\n",
    "- We are using KNN\n",
    "- later, we can use different things "
   ]
  },
  {
   "cell_type": "code",
   "execution_count": 13,
   "metadata": {
    "collapsed": true
   },
   "outputs": [],
   "source": [
    "# Train Test Split (not cross validation or K fold validation just yet)"
   ]
  },
  {
   "cell_type": "code",
   "execution_count": 31,
   "metadata": {
    "collapsed": true
   },
   "outputs": [],
   "source": [
    "from sklearn.cross_validation import train_test_split\n",
    "X_train, X_test,Y_train, Y_test = train_test_split(X, Y, test_size = 0.25)\n",
    "from sklearn.neighbors import KNeighborsClassifier\n",
    "from sklearn import metrics\n",
    "from sklearn.metrics import accuracy_score, log_loss"
   ]
  },
  {
   "cell_type": "code",
   "execution_count": 34,
   "metadata": {
    "collapsed": false
   },
   "outputs": [
    {
     "name": "stdout",
     "output_type": "stream",
     "text": [
      "<class 'pandas.core.frame.DataFrame'>\n",
      "Int64Index: 37014 entries, 5852 to 38821\n",
      "Data columns (total 12 columns):\n",
      "description           37014 non-null int32\n",
      "display_address       37014 non-null int16\n",
      "created_day           37014 non-null int64\n",
      "created_month         37014 non-null int64\n",
      "num_photos            37014 non-null int64\n",
      "num_features          37014 non-null int64\n",
      "description_length    37014 non-null int64\n",
      "longitude             37014 non-null float64\n",
      "latitude              37014 non-null float64\n",
      "price                 37014 non-null int64\n",
      "bathrooms             37014 non-null float64\n",
      "bedrooms              37014 non-null int64\n",
      "dtypes: float64(3), int16(1), int32(1), int64(7)\n",
      "memory usage: 3.3 MB\n"
     ]
    }
   ],
   "source": [
    "X_train.info()\n",
    "# scikit learn won't allow for datetime objects "
   ]
  },
  {
   "cell_type": "code",
   "execution_count": 37,
   "metadata": {
    "collapsed": false
   },
   "outputs": [],
   "source": [
    "knn = KNeighborsClassifier(n_neighbors = 400, leaf_size = 200)\n",
    "knn.fit(X_train, Y_train)\n",
    "Y_pred = knn.predict(X_test)"
   ]
  },
  {
   "cell_type": "code",
   "execution_count": 38,
   "metadata": {
    "collapsed": false
   },
   "outputs": [
    {
     "name": "stdout",
     "output_type": "stream",
     "text": [
      "0.692251580483\n",
      "0.743897365207\n"
     ]
    }
   ],
   "source": [
    "print metrics.accuracy_score(Y_test, Y_pred)\n",
    "knn_prediction = knn.predict_proba(X_test)\n",
    "ll = log_loss(Y_test, knn_prediction)\n",
    "print ll"
   ]
  },
  {
   "cell_type": "code",
   "execution_count": 39,
   "metadata": {
    "collapsed": true
   },
   "outputs": [],
   "source": [
    "# apply this to the test \n",
    "index = test[\"listing_id\"]\n",
    "test = test[features]\n"
   ]
  },
  {
   "cell_type": "code",
   "execution_count": 40,
   "metadata": {
    "collapsed": false
   },
   "outputs": [],
   "source": [
    "test_predictions = knn.predict_proba(tester)"
   ]
  },
  {
   "cell_type": "code",
   "execution_count": 41,
   "metadata": {
    "collapsed": false
   },
   "outputs": [],
   "source": [
    "submission = pd.DataFrame({\n",
    "        \"listing_id\": index,\n",
    "        \"high\": test_predictions[:,0],\n",
    "        \"medium\":test_predictions[:,2],\n",
    "        \"low\":test_predictions[:,1]\n",
    "    })\n",
    "    \n",
    "columnsTitles=[\"listing_id\",\"high\",\"medium\",\"low\"]\n",
    "submission=submission.reindex(columns=columnsTitles)\n",
    "submission.to_csv('submission3.csv', index=False)"
   ]
  },
  {
   "cell_type": "code",
   "execution_count": 42,
   "metadata": {
    "collapsed": true
   },
   "outputs": [],
   "source": [
    "# it seems like we won't be able to get any further with KNN, lets try logistic regression "
   ]
  },
  {
   "cell_type": "code",
   "execution_count": 41,
   "metadata": {
    "collapsed": false
   },
   "outputs": [],
   "source": [
    "from sklearn.linear_model import LogisticRegression\n",
    "logreg = LogisticRegression()\n",
    "logreg.fit(X_train, Y_train)\n",
    "Y_pred = logreg.predict(X_test)"
   ]
  },
  {
   "cell_type": "code",
   "execution_count": 43,
   "metadata": {
    "collapsed": false
   },
   "outputs": [
    {
     "name": "stdout",
     "output_type": "stream",
     "text": [
      "0.691360025936\n",
      "0.730751797363\n"
     ]
    }
   ],
   "source": [
    "print metrics.accuracy_score(Y_test, Y_pred)\n",
    "log_prediction = logreg.predict_proba(X_test)\n",
    "ll = log_loss(Y_test, log_prediction)\n",
    "print ll"
   ]
  },
  {
   "cell_type": "code",
   "execution_count": 48,
   "metadata": {
    "collapsed": true
   },
   "outputs": [],
   "source": [
    "test_predictions = logreg.predict_proba(tester)"
   ]
  },
  {
   "cell_type": "code",
   "execution_count": 49,
   "metadata": {
    "collapsed": true
   },
   "outputs": [],
   "source": [
    "submission = pd.DataFrame({\n",
    "        \"listing_id\": index,\n",
    "        \"high\": test_predictions[:,0],\n",
    "        \"medium\":test_predictions[:,2],\n",
    "        \"low\":test_predictions[:,1]\n",
    "    })\n",
    "    \n",
    "columnsTitles=[\"listing_id\",\"high\",\"medium\",\"low\"]\n",
    "submission=submission.reindex(columns=columnsTitles)\n",
    "submission.to_csv('submission4.csv', index=False)"
   ]
  },
  {
   "cell_type": "code",
   "execution_count": 44,
   "metadata": {
    "collapsed": true
   },
   "outputs": [],
   "source": [
    "# modelling using Gradient Boosting (gradient boosting model)\n",
    "\n",
    "from sklearn.ensemble import GradientBoostingClassifier"
   ]
  },
  {
   "cell_type": "code",
   "execution_count": 51,
   "metadata": {
    "collapsed": true
   },
   "outputs": [],
   "source": [
    "# two most important parameters are number of trees and learning rate \n",
    "# but first, lets just make one simple classifer and see the result "
   ]
  },
  {
   "cell_type": "code",
   "execution_count": 50,
   "metadata": {
    "collapsed": false
   },
   "outputs": [],
   "source": [
    "common_args = {'max_depth': 5, 'n_estimators': 300, 'subsample': 0.9, 'random_state': 2}\n",
    "\n",
    "gbm = GradientBoostingClassifier(learning_rate=0.10, **common_args)\n",
    "\n",
    "gbm.fit(X_train, Y_train)\n",
    "Y_pred = gbm.predict(X_test)"
   ]
  },
  {
   "cell_type": "code",
   "execution_count": 51,
   "metadata": {
    "collapsed": false
   },
   "outputs": [
    {
     "name": "stdout",
     "output_type": "stream",
     "text": [
      "0.736099854109\n",
      "0.601553665807\n"
     ]
    }
   ],
   "source": [
    "print metrics.accuracy_score(Y_test, Y_pred)\n",
    "gbm_prediction = gbm.predict_proba(X_test)\n",
    "ll = log_loss(Y_test, gbm_prediction)\n",
    "print ll"
   ]
  },
  {
   "cell_type": "code",
   "execution_count": 52,
   "metadata": {
    "collapsed": true
   },
   "outputs": [],
   "source": [
    "test_predictions = gbm.predict_proba(tester)"
   ]
  },
  {
   "cell_type": "code",
   "execution_count": 53,
   "metadata": {
    "collapsed": true
   },
   "outputs": [],
   "source": [
    "submission = pd.DataFrame({\n",
    "        \"listing_id\": index,\n",
    "        \"high\": test_predictions[:,0],\n",
    "        \"medium\":test_predictions[:,2],\n",
    "        \"low\":test_predictions[:,1]\n",
    "    })\n",
    "    \n",
    "columnsTitles=[\"listing_id\",\"high\",\"medium\",\"low\"]\n",
    "submission=submission.reindex(columns=columnsTitles)\n",
    "submission.to_csv('submission7.csv', index=False)"
   ]
  },
  {
   "cell_type": "code",
   "execution_count": 59,
   "metadata": {
    "collapsed": true
   },
   "outputs": [],
   "source": [
    "# use the large computer for this next time, it can do it faster "
   ]
  },
  {
   "cell_type": "code",
   "execution_count": 54,
   "metadata": {
    "collapsed": true
   },
   "outputs": [],
   "source": [
    "# next ones\n"
   ]
  },
  {
   "cell_type": "code",
   "execution_count": 55,
   "metadata": {
    "collapsed": false
   },
   "outputs": [
    {
     "name": "stdout",
     "output_type": "stream",
     "text": [
      "0.735937753283\n",
      "0.602415747081\n"
     ]
    }
   ],
   "source": [
    "common_args = {'max_depth': 5, 'n_estimators': 500, 'subsample': 0.9, 'random_state': 2}\n",
    "\n",
    "gbm = GradientBoostingClassifier(learning_rate=0.08, **common_args)\n",
    "\n",
    "gbm.fit(X_train, Y_train)\n",
    "Y_pred = gbm.predict(X_test)\n",
    "\n",
    "print metrics.accuracy_score(Y_test, Y_pred)\n",
    "gbm_prediction = gbm.predict_proba(X_test)\n",
    "ll = log_loss(Y_test, gbm_prediction)\n",
    "print ll"
   ]
  },
  {
   "cell_type": "code",
   "execution_count": 56,
   "metadata": {
    "collapsed": true
   },
   "outputs": [],
   "source": [
    "test_predictions = gbm.predict_proba(tester)\n",
    "\n",
    "submission = pd.DataFrame({\n",
    "        \"listing_id\": index,\n",
    "        \"high\": test_predictions[:,0],\n",
    "        \"medium\":test_predictions[:,2],\n",
    "        \"low\":test_predictions[:,1]\n",
    "    })\n",
    "    \n",
    "columnsTitles=[\"listing_id\",\"high\",\"medium\",\"low\"]\n",
    "submission=submission.reindex(columns=columnsTitles)\n",
    "submission.to_csv('submission8.csv', index=False)"
   ]
  },
  {
   "cell_type": "code",
   "execution_count": 57,
   "metadata": {
    "collapsed": false
   },
   "outputs": [
    {
     "name": "stdout",
     "output_type": "stream",
     "text": [
      "0.73707245907\n",
      "0.600177252394\n"
     ]
    }
   ],
   "source": [
    "# change to longer gbm, higher number of estimators \n",
    "\n",
    "common_args = {'max_depth': 5, 'n_estimators': 700, 'subsample': 0.9, 'random_state': 2}\n",
    "\n",
    "gbm = GradientBoostingClassifier(learning_rate=0.05, **common_args)\n",
    "\n",
    "gbm.fit(X_train, Y_train)\n",
    "Y_pred = gbm.predict(X_test)\n",
    "\n",
    "print metrics.accuracy_score(Y_test, Y_pred)\n",
    "gbm_prediction = gbm.predict_proba(X_test)\n",
    "ll = log_loss(Y_test, gbm_prediction)\n",
    "print ll"
   ]
  },
  {
   "cell_type": "code",
   "execution_count": 58,
   "metadata": {
    "collapsed": true
   },
   "outputs": [],
   "source": [
    "test_predictions = gbm.predict_proba(tester)\n",
    "\n",
    "submission = pd.DataFrame({\n",
    "        \"listing_id\": index,\n",
    "        \"high\": test_predictions[:,0],\n",
    "        \"medium\":test_predictions[:,2],\n",
    "        \"low\":test_predictions[:,1]\n",
    "    })\n",
    "    \n",
    "columnsTitles=[\"listing_id\",\"high\",\"medium\",\"low\"]\n",
    "submission=submission.reindex(columns=columnsTitles)\n",
    "submission.to_csv('submission9.csv', index=False)"
   ]
  },
  {
   "cell_type": "code",
   "execution_count": 59,
   "metadata": {
    "collapsed": true
   },
   "outputs": [],
   "source": [
    "from sklearn.ensemble import RandomForestClassifier\n",
    "# do random forest "
   ]
  },
  {
   "cell_type": "code",
   "execution_count": 60,
   "metadata": {
    "collapsed": false
   },
   "outputs": [
    {
     "name": "stdout",
     "output_type": "stream",
     "text": [
      "0.623556980046\n"
     ]
    }
   ],
   "source": [
    "clf = RandomForestClassifier(n_estimators=1000)\n",
    "clf.fit(X_train, Y_train)\n",
    "clf_prediction = clf.predict_proba(X_test)\n",
    "print log_loss(Y_test, clf_prediction)"
   ]
  },
  {
   "cell_type": "code",
   "execution_count": 61,
   "metadata": {
    "collapsed": true
   },
   "outputs": [],
   "source": [
    "test_predictions = clf.predict_proba(tester)\n",
    "\n",
    "submission = pd.DataFrame({\n",
    "        \"listing_id\": index,\n",
    "        \"high\": test_predictions[:,0],\n",
    "        \"medium\":test_predictions[:,2],\n",
    "        \"low\":test_predictions[:,1]\n",
    "    })\n",
    "    \n",
    "columnsTitles=[\"listing_id\",\"high\",\"medium\",\"low\"]\n",
    "submission=submission.reindex(columns=columnsTitles)\n",
    "submission.to_csv('submission10.csv', index=False)"
   ]
  },
  {
   "cell_type": "code",
   "execution_count": 62,
   "metadata": {
    "collapsed": false
   },
   "outputs": [
    {
     "name": "stdout",
     "output_type": "stream",
     "text": [
      "0.73926082023\n",
      "0.597806294449\n"
     ]
    }
   ],
   "source": [
    "# use GBM again, however, this time, use the parameters that the other guy set \n",
    "# learning rate 0.01, tree size, log loss as the parameter \n",
    "\n",
    "# newly tuned GBM \n",
    "common_args = {'max_depth': 7, 'n_estimators': 2000, 'subsample': 0.7, 'random_state': 2}\n",
    "\n",
    "gbm = GradientBoostingClassifier(learning_rate=0.01, **common_args)\n",
    "\n",
    "gbm.fit(X_train, Y_train)\n",
    "Y_pred = gbm.predict(X_test)\n",
    "\n",
    "print metrics.accuracy_score(Y_test, Y_pred)\n",
    "gbm_prediction = gbm.predict_proba(X_test)\n",
    "ll = log_loss(Y_test, gbm_prediction)\n",
    "print ll"
   ]
  },
  {
   "cell_type": "code",
   "execution_count": 63,
   "metadata": {
    "collapsed": true
   },
   "outputs": [],
   "source": [
    "test_predictions = gbm.predict_proba(tester)\n",
    "\n",
    "submission = pd.DataFrame({\n",
    "        \"listing_id\": index,\n",
    "        \"high\": test_predictions[:,0],\n",
    "        \"medium\":test_predictions[:,2],\n",
    "        \"low\":test_predictions[:,1]\n",
    "    })\n",
    "    \n",
    "columnsTitles=[\"listing_id\",\"high\",\"medium\",\"low\"]\n",
    "submission=submission.reindex(columns=columnsTitles)\n",
    "submission.to_csv('submission11.csv', index=False)"
   ]
  },
  {
   "cell_type": "code",
   "execution_count": 64,
   "metadata": {
    "collapsed": true
   },
   "outputs": [],
   "source": [
    "# hmmm, the random forest was better still. Interesting "
   ]
  },
  {
   "cell_type": "code",
   "execution_count": 1,
   "metadata": {
    "collapsed": true
   },
   "outputs": [],
   "source": [
    "# it seems like GBM has gotten to the best it can be \n",
    "# we would have to go to another model, maybe with XGBoost \n",
    "# now with GBM being at it's limit, maybe another model is better "
   ]
  },
  {
   "cell_type": "code",
   "execution_count": null,
   "metadata": {
    "collapsed": true
   },
   "outputs": [],
   "source": [
    "# how about linear gradient boosting, we have done random forest, and everything "
   ]
  }
 ],
 "metadata": {
  "anaconda-cloud": {},
  "kernelspec": {
   "display_name": "Python [Root]",
   "language": "python",
   "name": "Python [Root]"
  },
  "language_info": {
   "codemirror_mode": {
    "name": "ipython",
    "version": 2
   },
   "file_extension": ".py",
   "mimetype": "text/x-python",
   "name": "python",
   "nbconvert_exporter": "python",
   "pygments_lexer": "ipython2",
   "version": "2.7.12"
  }
 },
 "nbformat": 4,
 "nbformat_minor": 0
}
