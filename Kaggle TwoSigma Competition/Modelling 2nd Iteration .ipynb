{
 "cells": [
  {
   "cell_type": "code",
   "execution_count": 4,
   "metadata": {
    "collapsed": true
   },
   "outputs": [],
   "source": [
    "import pandas as pd \n",
    "import numpy as np \n",
    "import os \n",
    "import matplotlib as plt\n",
    "import seaborn as sns\n",
    "%matplotlib inline"
   ]
  },
  {
   "cell_type": "code",
   "execution_count": 2,
   "metadata": {
    "collapsed": false
   },
   "outputs": [
    {
     "name": "stdout",
     "output_type": "stream",
     "text": [
      "Feature and Exploratory Analysis.ipynb\n",
      "Modelling 2nd Iteration .ipynb\n",
      "Preliminary Analysis .ipynb\n",
      "sample_submission.csv\n",
      "sample_submission.csv.zip\n",
      "submission.csv\n",
      "submission2.csv\n",
      "test.json\n",
      "test.json.zip\n",
      "train.json\n",
      "train.json.zip\n",
      "\n"
     ]
    }
   ],
   "source": [
    "from subprocess import check_output\n",
    "print(check_output([\"ls\", \".\"]).decode(\"utf8\"))"
   ]
  },
  {
   "cell_type": "code",
   "execution_count": 3,
   "metadata": {
    "collapsed": true
   },
   "outputs": [],
   "source": [
    "train = pd.read_json(r'train.json')\n",
    "test = pd.read_json(r'test.json')"
   ]
  },
  {
   "cell_type": "code",
   "execution_count": 5,
   "metadata": {
    "collapsed": false
   },
   "outputs": [
    {
     "name": "stdout",
     "output_type": "stream",
     "text": [
      "<class 'pandas.core.frame.DataFrame'>\n",
      "Int64Index: 49352 entries, 10 to 99994\n",
      "Data columns (total 15 columns):\n",
      "bathrooms          49352 non-null float64\n",
      "bedrooms           49352 non-null int64\n",
      "building_id        49352 non-null object\n",
      "created            49352 non-null object\n",
      "description        49352 non-null object\n",
      "display_address    49352 non-null object\n",
      "features           49352 non-null object\n",
      "interest_level     49352 non-null object\n",
      "latitude           49352 non-null float64\n",
      "listing_id         49352 non-null int64\n",
      "longitude          49352 non-null float64\n",
      "manager_id         49352 non-null object\n",
      "photos             49352 non-null object\n",
      "price              49352 non-null int64\n",
      "street_address     49352 non-null object\n",
      "dtypes: float64(3), int64(3), object(9)\n",
      "memory usage: 6.0+ MB\n"
     ]
    }
   ],
   "source": [
    "train.info()"
   ]
  },
  {
   "cell_type": "markdown",
   "metadata": {},
   "source": [
    "### Specific Categories to Impliment \n",
    "\n",
    "- the number of photos on listing \n",
    "- the number of features \n",
    "- the length of the description \n",
    "- convert the created into datetime object and extract day / month (year doesn't matter, hours doesn't matter) "
   ]
  },
  {
   "cell_type": "code",
   "execution_count": 7,
   "metadata": {
    "collapsed": true
   },
   "outputs": [],
   "source": [
    "def quantify_features(data):\n",
    "    data['num_photos'] = data['photos'].apply(len)\n",
    "    data['num_features'] = data['features'].apply(len)\n",
    "    data['description_length'] = data.description.apply(lambda x: len(x.split()))\n",
    "    data['created'] = pd.to_datetime(data['created'])\n",
    "    data['created_month'] = data['created'].dt.month\n",
    "    data['created_day'] = data['created'].dt.day\n",
    "    print data.info()"
   ]
  },
  {
   "cell_type": "code",
   "execution_count": 8,
   "metadata": {
    "collapsed": false
   },
   "outputs": [
    {
     "name": "stdout",
     "output_type": "stream",
     "text": [
      "<class 'pandas.core.frame.DataFrame'>\n",
      "Int64Index: 49352 entries, 10 to 99994\n",
      "Data columns (total 20 columns):\n",
      "bathrooms             49352 non-null float64\n",
      "bedrooms              49352 non-null int64\n",
      "building_id           49352 non-null object\n",
      "created               49352 non-null datetime64[ns]\n",
      "description           49352 non-null object\n",
      "display_address       49352 non-null object\n",
      "features              49352 non-null object\n",
      "interest_level        49352 non-null object\n",
      "latitude              49352 non-null float64\n",
      "listing_id            49352 non-null int64\n",
      "longitude             49352 non-null float64\n",
      "manager_id            49352 non-null object\n",
      "photos                49352 non-null object\n",
      "price                 49352 non-null int64\n",
      "street_address        49352 non-null object\n",
      "num_photos            49352 non-null int64\n",
      "num_features          49352 non-null int64\n",
      "description_length    49352 non-null int64\n",
      "created_month         49352 non-null int64\n",
      "created_day           49352 non-null int64\n",
      "dtypes: datetime64[ns](1), float64(3), int64(8), object(8)\n",
      "memory usage: 7.9+ MB\n",
      "None\n",
      "<class 'pandas.core.frame.DataFrame'>\n",
      "Int64Index: 74659 entries, 0 to 99999\n",
      "Data columns (total 19 columns):\n",
      "bathrooms             74659 non-null float64\n",
      "bedrooms              74659 non-null int64\n",
      "building_id           74659 non-null object\n",
      "created               74659 non-null datetime64[ns]\n",
      "description           74659 non-null object\n",
      "display_address       74659 non-null object\n",
      "features              74659 non-null object\n",
      "latitude              74659 non-null float64\n",
      "listing_id            74659 non-null int64\n",
      "longitude             74659 non-null float64\n",
      "manager_id            74659 non-null object\n",
      "photos                74659 non-null object\n",
      "price                 74659 non-null int64\n",
      "street_address        74659 non-null object\n",
      "num_photos            74659 non-null int64\n",
      "num_features          74659 non-null int64\n",
      "description_length    74659 non-null int64\n",
      "created_month         74659 non-null int64\n",
      "created_day           74659 non-null int64\n",
      "dtypes: datetime64[ns](1), float64(3), int64(8), object(7)\n",
      "memory usage: 11.4+ MB\n",
      "None\n"
     ]
    }
   ],
   "source": [
    "quantify_features(train)\n",
    "quantify_features(test)"
   ]
  },
  {
   "cell_type": "code",
   "execution_count": 9,
   "metadata": {
    "collapsed": true
   },
   "outputs": [],
   "source": [
    "# for now, just use the old method, later, we can transform the categorical information using scikit learn\n",
    "# use cat.codes \n",
    "\n",
    "def cat_codes(X):\n",
    "    X[\"street_address\"] = X[\"street_address\"].astype('category').cat.codes\n",
    "    X[\"building_id\"] = X[\"building_id\"].astype('category').cat.codes\n",
    "    X[\"description\"] = X[\"description\"].astype('category').cat.codes\n",
    "    X[\"display_address\"] = X[\"display_address\"].astype('category').cat.codes\n",
    "    X[\"manager_id\"] = X[\"manager_id\"].astype('category').cat.codes\n"
   ]
  },
  {
   "cell_type": "code",
   "execution_count": 10,
   "metadata": {
    "collapsed": true
   },
   "outputs": [],
   "source": [
    "cat_codes(train)\n",
    "cat_codes(test)"
   ]
  },
  {
   "cell_type": "code",
   "execution_count": 16,
   "metadata": {
    "collapsed": true
   },
   "outputs": [],
   "source": [
    "# featureset \n",
    "features = ['building_id', 'description', 'display_address', 'created', 'created_day', \n",
    "           'created_month', 'num_photos', 'num_features', 'description_length', 'longitude', 'latitude', 'price',\n",
    "           'bathrooms', 'bedrooms']"
   ]
  },
  {
   "cell_type": "code",
   "execution_count": 18,
   "metadata": {
    "collapsed": false
   },
   "outputs": [
    {
     "name": "stdout",
     "output_type": "stream",
     "text": [
      "<class 'pandas.core.frame.DataFrame'>\n",
      "Int64Index: 49352 entries, 10 to 99994\n",
      "Data columns (total 14 columns):\n",
      "building_id           49352 non-null int16\n",
      "description           49352 non-null int32\n",
      "display_address       49352 non-null int16\n",
      "created               49352 non-null int32\n",
      "created_day           49352 non-null int64\n",
      "created_month         49352 non-null int64\n",
      "num_photos            49352 non-null int64\n",
      "num_features          49352 non-null int64\n",
      "description_length    49352 non-null int64\n",
      "longitude             49352 non-null float64\n",
      "latitude              49352 non-null float64\n",
      "price                 49352 non-null int64\n",
      "bathrooms             49352 non-null float64\n",
      "bedrooms              49352 non-null int64\n",
      "dtypes: float64(3), int16(2), int32(2), int64(7)\n",
      "memory usage: 4.7 MB\n"
     ]
    }
   ],
   "source": [
    "X = train.drop('interest_level', 1)\n",
    "X = X[features]\n",
    "X.info()\n",
    "Y = train['interest_level'].astype('category')"
   ]
  },
  {
   "cell_type": "markdown",
   "metadata": {},
   "source": [
    "### Model Building \n",
    "\n",
    "- We are using KNN\n",
    "- later, we can use different things "
   ]
  },
  {
   "cell_type": "code",
   "execution_count": 19,
   "metadata": {
    "collapsed": true
   },
   "outputs": [],
   "source": [
    "# Train Test Split (not cross validation or K fold validation just yet)"
   ]
  },
  {
   "cell_type": "code",
   "execution_count": 23,
   "metadata": {
    "collapsed": true
   },
   "outputs": [],
   "source": [
    "from sklearn.cross_validation import train_test_split\n",
    "X_train, X_test,Y_train, Y_test = train_test_split(X, Y, test_size = 0.25)\n",
    "from sklearn.neighbors import KNeighborsClassifier\n",
    "from sklearn import metrics\n",
    "from sklearn.metrics import accuracy_score, log_loss"
   ]
  },
  {
   "cell_type": "code",
   "execution_count": 33,
   "metadata": {
    "collapsed": true
   },
   "outputs": [],
   "source": [
    "knn = KNeighborsClassifier(n_neighbors = 400, leaf_size = 200)\n",
    "knn.fit(X_train, Y_train)\n",
    "Y_pred = knn.predict(X_test)"
   ]
  },
  {
   "cell_type": "code",
   "execution_count": 34,
   "metadata": {
    "collapsed": false
   },
   "outputs": [
    {
     "name": "stdout",
     "output_type": "stream",
     "text": [
      "0.697276706111\n",
      "0.750235133388\n"
     ]
    }
   ],
   "source": [
    "print metrics.accuracy_score(Y_test, Y_pred)\n",
    "knn_prediction = knn.predict_proba(X_test)\n",
    "ll = log_loss(Y_test, knn_prediction)\n",
    "print ll"
   ]
  },
  {
   "cell_type": "code",
   "execution_count": 36,
   "metadata": {
    "collapsed": true
   },
   "outputs": [],
   "source": [
    "# apply this to the test \n",
    "index = test[\"listing_id\"]\n",
    "tester = test[features]\n"
   ]
  },
  {
   "cell_type": "code",
   "execution_count": 39,
   "metadata": {
    "collapsed": false
   },
   "outputs": [],
   "source": [
    "test_predictions = knn.predict_proba(tester)"
   ]
  },
  {
   "cell_type": "code",
   "execution_count": 41,
   "metadata": {
    "collapsed": false
   },
   "outputs": [],
   "source": [
    "submission = pd.DataFrame({\n",
    "        \"listing_id\": index,\n",
    "        \"high\": test_predictions[:,0],\n",
    "        \"medium\":test_predictions[:,2],\n",
    "        \"low\":test_predictions[:,1]\n",
    "    })\n",
    "    \n",
    "columnsTitles=[\"listing_id\",\"high\",\"medium\",\"low\"]\n",
    "submission=submission.reindex(columns=columnsTitles)\n",
    "submission.to_csv('submission3.csv', index=False)"
   ]
  },
  {
   "cell_type": "code",
   "execution_count": 42,
   "metadata": {
    "collapsed": true
   },
   "outputs": [],
   "source": [
    "# it seems like we won't be able to get any further with KNN, lets try logistic regression "
   ]
  },
  {
   "cell_type": "code",
   "execution_count": 44,
   "metadata": {
    "collapsed": false
   },
   "outputs": [],
   "source": [
    "from sklearn.linear_model import LogisticRegression\n",
    "logreg = LogisticRegression()\n",
    "logreg.fit(X_train, Y_train)\n",
    "Y_pred = logreg.predict(X_test)"
   ]
  },
  {
   "cell_type": "code",
   "execution_count": 47,
   "metadata": {
    "collapsed": false
   },
   "outputs": [
    {
     "name": "stdout",
     "output_type": "stream",
     "text": [
      "0.695169395364\n",
      "0.750235133388\n"
     ]
    }
   ],
   "source": [
    "print metrics.accuracy_score(Y_test, Y_pred)\n",
    "log_prediction = logreg.predict_proba(X_test)\n",
    "ll = log_loss(Y_test, gbm_prediction)\n",
    "print ll"
   ]
  },
  {
   "cell_type": "code",
   "execution_count": 48,
   "metadata": {
    "collapsed": true
   },
   "outputs": [],
   "source": [
    "test_predictions = logreg.predict_proba(tester)"
   ]
  },
  {
   "cell_type": "code",
   "execution_count": 49,
   "metadata": {
    "collapsed": true
   },
   "outputs": [],
   "source": [
    "submission = pd.DataFrame({\n",
    "        \"listing_id\": index,\n",
    "        \"high\": test_predictions[:,0],\n",
    "        \"medium\":test_predictions[:,2],\n",
    "        \"low\":test_predictions[:,1]\n",
    "    })\n",
    "    \n",
    "columnsTitles=[\"listing_id\",\"high\",\"medium\",\"low\"]\n",
    "submission=submission.reindex(columns=columnsTitles)\n",
    "submission.to_csv('submission4.csv', index=False)"
   ]
  },
  {
   "cell_type": "code",
   "execution_count": 50,
   "metadata": {
    "collapsed": true
   },
   "outputs": [],
   "source": [
    "# modelling using Gradient Boosting (gradient boosting model)\n",
    "\n",
    "from sklearn.ensemble import GradientBoostingClassifier"
   ]
  },
  {
   "cell_type": "code",
   "execution_count": 51,
   "metadata": {
    "collapsed": true
   },
   "outputs": [],
   "source": [
    "# two most important parameters are number of trees and learning rate \n",
    "# but first, lets just make one simple classifer and see the result "
   ]
  },
  {
   "cell_type": "code",
   "execution_count": 57,
   "metadata": {
    "collapsed": true
   },
   "outputs": [],
   "source": [
    "common_args = {'max_depth': 10, 'n_estimators': 500, 'subsample': 0.9, 'random_state': 2}\n",
    "\n",
    "gbm = GradientBoostingClassifier(learning_rate=0.20, **common_args)\n",
    "\n",
    "gbm.fit(X_train, Y_train)\n",
    "Y_pred = gbm.predict(X_test)"
   ]
  },
  {
   "cell_type": "code",
   "execution_count": 58,
   "metadata": {
    "collapsed": false
   },
   "outputs": [
    {
     "name": "stdout",
     "output_type": "stream",
     "text": [
      "0.739585021884\n",
      "1.03209287876\n"
     ]
    }
   ],
   "source": [
    "print metrics.accuracy_score(Y_test, Y_pred)\n",
    "gbm_prediction = gbm.predict_proba(X_test)\n",
    "ll = log_loss(Y_test, gbm_prediction)\n",
    "print ll"
   ]
  },
  {
   "cell_type": "code",
   "execution_count": 55,
   "metadata": {
    "collapsed": true
   },
   "outputs": [],
   "source": [
    "test_predictions = gbm.predict_proba(tester)"
   ]
  },
  {
   "cell_type": "code",
   "execution_count": 56,
   "metadata": {
    "collapsed": true
   },
   "outputs": [],
   "source": [
    "submission = pd.DataFrame({\n",
    "        \"listing_id\": index,\n",
    "        \"high\": test_predictions[:,0],\n",
    "        \"medium\":test_predictions[:,2],\n",
    "        \"low\":test_predictions[:,1]\n",
    "    })\n",
    "    \n",
    "columnsTitles=[\"listing_id\",\"high\",\"medium\",\"low\"]\n",
    "submission=submission.reindex(columns=columnsTitles)\n",
    "submission.to_csv('submission5.csv', index=False)"
   ]
  },
  {
   "cell_type": "code",
   "execution_count": 59,
   "metadata": {
    "collapsed": true
   },
   "outputs": [],
   "source": [
    "# use the large computer for this next time, it can do it faster "
   ]
  },
  {
   "cell_type": "code",
   "execution_count": null,
   "metadata": {
    "collapsed": true
   },
   "outputs": [],
   "source": []
  }
 ],
 "metadata": {
  "anaconda-cloud": {},
  "kernelspec": {
   "display_name": "Python [Root]",
   "language": "python",
   "name": "Python [Root]"
  },
  "language_info": {
   "codemirror_mode": {
    "name": "ipython",
    "version": 2
   },
   "file_extension": ".py",
   "mimetype": "text/x-python",
   "name": "python",
   "nbconvert_exporter": "python",
   "pygments_lexer": "ipython2",
   "version": "2.7.12"
  }
 },
 "nbformat": 4,
 "nbformat_minor": 0
}
